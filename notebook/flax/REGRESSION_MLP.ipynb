{
 "cells": [
  {
   "cell_type": "code",
   "execution_count": 1,
   "metadata": {},
   "outputs": [],
   "source": [
    "%load_ext autoreload\n",
    "%autoreload 2"
   ]
  },
  {
   "cell_type": "code",
   "execution_count": 2,
   "metadata": {},
   "outputs": [
    {
     "data": {
      "text/plain": [
       "'cpu'"
      ]
     },
     "execution_count": 2,
     "metadata": {},
     "output_type": "execute_result"
    }
   ],
   "source": [
    "import jax\n",
    "import mlflow\n",
    "import optax\n",
    "import polars as pl\n",
    "from flax import nnx\n",
    "from sklearn.datasets import fetch_california_housing\n",
    "from sklearn.model_selection import train_test_split\n",
    "\n",
    "from nn_trainer.flax.evaluator import MeanSquaredErrorEvaluator\n",
    "from nn_trainer.flax.loader import MiniBatchLoader\n",
    "from nn_trainer.flax.loss_fn import mean_squared_error\n",
    "from nn_trainer.flax.model import RegressionMLP\n",
    "from nn_trainer.flax.trainer import Trainer\n",
    "\n",
    "jax.default_backend()"
   ]
  },
  {
   "cell_type": "code",
   "execution_count": 3,
   "metadata": {},
   "outputs": [],
   "source": [
    "housing = fetch_california_housing()\n",
    "train_dataset_df, valid_dataset_df = train_test_split(\n",
    "    pl.from_numpy(data=housing.data, schema=housing.feature_names).with_columns(  # type: ignore\n",
    "        pl.Series(housing.target).alias(housing.target_names[0])  # type: ignore\n",
    "    ),\n",
    "    test_size=0.2,\n",
    "    random_state=0,\n",
    ")\n",
    "train_X_df, train_y_df, valid_X_df, valid_y_df = (\n",
    "    train_dataset_df.drop(housing.target_names[0]),  # type: ignore\n",
    "    train_dataset_df.select(housing.target_names[0]),  # type: ignore\n",
    "    valid_dataset_df.drop(housing.target_names[0]),  # type: ignore\n",
    "    valid_dataset_df.select(housing.target_names[0]),  # type: ignore\n",
    ")"
   ]
  },
  {
   "cell_type": "code",
   "execution_count": 4,
   "metadata": {},
   "outputs": [],
   "source": [
    "model = RegressionMLP(train_dataset_df.shape[1] - 1, [10, 10], 1, nnx.Rngs(0))\n",
    "train_loader = MiniBatchLoader(X_df=train_X_df, y_df=train_y_df, batch_size=512, seed=0)\n",
    "valid_evaluator = MeanSquaredErrorEvaluator(X_df=valid_X_df, y_df=valid_y_df)"
   ]
  },
  {
   "cell_type": "markdown",
   "metadata": {},
   "source": [
    "### Training"
   ]
  },
  {
   "cell_type": "code",
   "execution_count": 5,
   "metadata": {},
   "outputs": [
    {
     "name": "stdout",
     "output_type": "stream",
     "text": [
      "[VALID 000]: loss=8120.650390625, metrics={'MSE': 8120.650390625}\n"
     ]
    },
    {
     "name": "stderr",
     "output_type": "stream",
     "text": [
      "[TRAIN 001]: 100%|██████████| 32/32 [00:00<00:00, 54.47it/s, batch_loss=51.6]  \n"
     ]
    },
    {
     "name": "stdout",
     "output_type": "stream",
     "text": [
      "[VALID 001]: loss=33.786903381347656, metrics={'MSE': 33.786903381347656}\n"
     ]
    },
    {
     "name": "stderr",
     "output_type": "stream",
     "text": [
      "[TRAIN 002]: 100%|██████████| 32/32 [00:00<00:00, 296.51it/s, batch_loss=15.7]\n"
     ]
    },
    {
     "name": "stdout",
     "output_type": "stream",
     "text": [
      "[VALID 002]: loss=19.98079490661621, metrics={'MSE': 19.98079490661621}\n"
     ]
    },
    {
     "name": "stderr",
     "output_type": "stream",
     "text": [
      "[TRAIN 003]: 100%|██████████| 32/32 [00:00<00:00, 362.56it/s, batch_loss=6.91]\n"
     ]
    },
    {
     "name": "stdout",
     "output_type": "stream",
     "text": [
      "[VALID 003]: loss=11.919501304626465, metrics={'MSE': 11.919501304626465}\n"
     ]
    },
    {
     "name": "stderr",
     "output_type": "stream",
     "text": [
      "[TRAIN 004]: 100%|██████████| 32/32 [00:00<00:00, 400.51it/s, batch_loss=6.6]\n"
     ]
    },
    {
     "name": "stdout",
     "output_type": "stream",
     "text": [
      "[VALID 004]: loss=8.962065696716309, metrics={'MSE': 8.962065696716309}\n"
     ]
    },
    {
     "name": "stderr",
     "output_type": "stream",
     "text": [
      "[TRAIN 005]: 100%|██████████| 32/32 [00:00<00:00, 378.28it/s, batch_loss=5.11]\n"
     ]
    },
    {
     "name": "stdout",
     "output_type": "stream",
     "text": [
      "[VALID 005]: loss=7.390213966369629, metrics={'MSE': 7.390213966369629}\n"
     ]
    },
    {
     "name": "stderr",
     "output_type": "stream",
     "text": [
      "[TRAIN 006]: 100%|██████████| 32/32 [00:00<00:00, 398.59it/s, batch_loss=5.04]\n"
     ]
    },
    {
     "name": "stdout",
     "output_type": "stream",
     "text": [
      "[VALID 006]: loss=6.859020233154297, metrics={'MSE': 6.859020233154297}\n"
     ]
    },
    {
     "name": "stderr",
     "output_type": "stream",
     "text": [
      "[TRAIN 007]: 100%|██████████| 32/32 [00:00<00:00, 193.31it/s, batch_loss=4.88]\n"
     ]
    },
    {
     "name": "stdout",
     "output_type": "stream",
     "text": [
      "[VALID 007]: loss=6.361594200134277, metrics={'MSE': 6.361594200134277}\n"
     ]
    },
    {
     "name": "stderr",
     "output_type": "stream",
     "text": [
      "[TRAIN 008]: 100%|██████████| 32/32 [00:00<00:00, 332.18it/s, batch_loss=5.7]\n"
     ]
    },
    {
     "name": "stdout",
     "output_type": "stream",
     "text": [
      "[VALID 008]: loss=5.843143463134766, metrics={'MSE': 5.843143463134766}\n"
     ]
    },
    {
     "name": "stderr",
     "output_type": "stream",
     "text": [
      "[TRAIN 009]: 100%|██████████| 32/32 [00:00<00:00, 398.14it/s, batch_loss=4]"
     ]
    },
    {
     "name": "stdout",
     "output_type": "stream",
     "text": [
      "[VALID 009]: loss=5.789444923400879, metrics={'MSE': 5.789444923400879}\n"
     ]
    },
    {
     "name": "stderr",
     "output_type": "stream",
     "text": [
      "\n",
      "[TRAIN 010]: 100%|██████████| 32/32 [00:00<00:00, 380.72it/s, batch_loss=3.79]\n"
     ]
    },
    {
     "name": "stdout",
     "output_type": "stream",
     "text": [
      "[VALID 010]: loss=5.8531494140625, metrics={'MSE': 5.8531494140625}\n"
     ]
    },
    {
     "name": "stderr",
     "output_type": "stream",
     "text": [
      "[TRAIN 011]: 100%|██████████| 32/32 [00:00<00:00, 388.89it/s, batch_loss=4.86]\n"
     ]
    },
    {
     "name": "stdout",
     "output_type": "stream",
     "text": [
      "[VALID 011]: loss=4.904467582702637, metrics={'MSE': 4.904467582702637}\n"
     ]
    },
    {
     "name": "stderr",
     "output_type": "stream",
     "text": [
      "[TRAIN 012]: 100%|██████████| 32/32 [00:00<00:00, 408.49it/s, batch_loss=3.3]\n"
     ]
    },
    {
     "name": "stdout",
     "output_type": "stream",
     "text": [
      "[VALID 012]: loss=5.002785682678223, metrics={'MSE': 5.002785682678223}\n"
     ]
    },
    {
     "name": "stderr",
     "output_type": "stream",
     "text": [
      "[TRAIN 013]: 100%|██████████| 32/32 [00:00<00:00, 354.40it/s, batch_loss=3.84]\n"
     ]
    },
    {
     "name": "stdout",
     "output_type": "stream",
     "text": [
      "[VALID 013]: loss=4.781589031219482, metrics={'MSE': 4.781589031219482}\n"
     ]
    },
    {
     "name": "stderr",
     "output_type": "stream",
     "text": [
      "[TRAIN 014]: 100%|██████████| 32/32 [00:00<00:00, 239.84it/s, batch_loss=3.72]\n"
     ]
    },
    {
     "name": "stdout",
     "output_type": "stream",
     "text": [
      "[VALID 014]: loss=4.457729816436768, metrics={'MSE': 4.457729816436768}\n"
     ]
    },
    {
     "name": "stderr",
     "output_type": "stream",
     "text": [
      "[TRAIN 015]: 100%|██████████| 32/32 [00:00<00:00, 373.90it/s, batch_loss=3.42]\n"
     ]
    },
    {
     "name": "stdout",
     "output_type": "stream",
     "text": [
      "[VALID 015]: loss=4.314329147338867, metrics={'MSE': 4.314329147338867}\n"
     ]
    },
    {
     "name": "stderr",
     "output_type": "stream",
     "text": [
      "[TRAIN 016]: 100%|██████████| 32/32 [00:00<00:00, 359.75it/s, batch_loss=3.44]\n"
     ]
    },
    {
     "name": "stdout",
     "output_type": "stream",
     "text": [
      "[VALID 016]: loss=4.281726360321045, metrics={'MSE': 4.281726360321045}\n"
     ]
    },
    {
     "name": "stderr",
     "output_type": "stream",
     "text": [
      "[TRAIN 017]: 100%|██████████| 32/32 [00:00<00:00, 392.47it/s, batch_loss=3.05]\n"
     ]
    },
    {
     "name": "stdout",
     "output_type": "stream",
     "text": [
      "[VALID 017]: loss=3.709850788116455, metrics={'MSE': 3.709850788116455}\n"
     ]
    },
    {
     "name": "stderr",
     "output_type": "stream",
     "text": [
      "[TRAIN 018]: 100%|██████████| 32/32 [00:00<00:00, 384.31it/s, batch_loss=3.35]\n"
     ]
    },
    {
     "name": "stdout",
     "output_type": "stream",
     "text": [
      "[VALID 018]: loss=3.633240222930908, metrics={'MSE': 3.633240222930908}\n"
     ]
    },
    {
     "name": "stderr",
     "output_type": "stream",
     "text": [
      "[TRAIN 019]: 100%|██████████| 32/32 [00:00<00:00, 403.38it/s, batch_loss=2.84]\n"
     ]
    },
    {
     "name": "stdout",
     "output_type": "stream",
     "text": [
      "[VALID 019]: loss=3.45328950881958, metrics={'MSE': 3.45328950881958}\n"
     ]
    },
    {
     "name": "stderr",
     "output_type": "stream",
     "text": [
      "[TRAIN 020]: 100%|██████████| 32/32 [00:00<00:00, 395.47it/s, batch_loss=3.21]\n"
     ]
    },
    {
     "name": "stdout",
     "output_type": "stream",
     "text": [
      "[VALID 020]: loss=3.3163444995880127, metrics={'MSE': 3.3163444995880127}\n"
     ]
    },
    {
     "name": "stderr",
     "output_type": "stream",
     "text": [
      "[TRAIN 021]: 100%|██████████| 32/32 [00:00<00:00, 400.46it/s, batch_loss=2.82]\n"
     ]
    },
    {
     "name": "stdout",
     "output_type": "stream",
     "text": [
      "[VALID 021]: loss=3.198929786682129, metrics={'MSE': 3.198929786682129}\n"
     ]
    },
    {
     "name": "stderr",
     "output_type": "stream",
     "text": [
      "[TRAIN 022]: 100%|██████████| 32/32 [00:00<00:00, 398.48it/s, batch_loss=2.5]\n"
     ]
    },
    {
     "name": "stdout",
     "output_type": "stream",
     "text": [
      "[VALID 022]: loss=3.087815046310425, metrics={'MSE': 3.087815046310425}\n"
     ]
    },
    {
     "name": "stderr",
     "output_type": "stream",
     "text": [
      "[TRAIN 023]: 100%|██████████| 32/32 [00:00<00:00, 393.67it/s, batch_loss=2.09]\n"
     ]
    },
    {
     "name": "stdout",
     "output_type": "stream",
     "text": [
      "[VALID 023]: loss=2.937162399291992, metrics={'MSE': 2.937162399291992}\n"
     ]
    },
    {
     "name": "stderr",
     "output_type": "stream",
     "text": [
      "[TRAIN 024]: 100%|██████████| 32/32 [00:00<00:00, 422.83it/s, batch_loss=2.06]\n"
     ]
    },
    {
     "name": "stdout",
     "output_type": "stream",
     "text": [
      "[VALID 024]: loss=2.8536930084228516, metrics={'MSE': 2.8536930084228516}\n"
     ]
    },
    {
     "name": "stderr",
     "output_type": "stream",
     "text": [
      "[TRAIN 025]: 100%|██████████| 32/32 [00:00<00:00, 397.98it/s, batch_loss=2.28]\n"
     ]
    },
    {
     "name": "stdout",
     "output_type": "stream",
     "text": [
      "[VALID 025]: loss=2.739352226257324, metrics={'MSE': 2.739352226257324}\n"
     ]
    },
    {
     "name": "stderr",
     "output_type": "stream",
     "text": [
      "[TRAIN 026]: 100%|██████████| 32/32 [00:00<00:00, 421.92it/s, batch_loss=2.18]\n"
     ]
    },
    {
     "name": "stdout",
     "output_type": "stream",
     "text": [
      "[VALID 026]: loss=2.7058041095733643, metrics={'MSE': 2.7058041095733643}\n"
     ]
    },
    {
     "name": "stderr",
     "output_type": "stream",
     "text": [
      "[TRAIN 027]: 100%|██████████| 32/32 [00:00<00:00, 426.35it/s, batch_loss=2.09]\n"
     ]
    },
    {
     "name": "stdout",
     "output_type": "stream",
     "text": [
      "[VALID 027]: loss=2.5225729942321777, metrics={'MSE': 2.5225729942321777}\n"
     ]
    },
    {
     "name": "stderr",
     "output_type": "stream",
     "text": [
      "[TRAIN 028]: 100%|██████████| 32/32 [00:00<00:00, 424.33it/s, batch_loss=1.78]\n"
     ]
    },
    {
     "name": "stdout",
     "output_type": "stream",
     "text": [
      "[VALID 028]: loss=2.345104455947876, metrics={'MSE': 2.345104455947876}\n"
     ]
    },
    {
     "name": "stderr",
     "output_type": "stream",
     "text": [
      "[TRAIN 029]: 100%|██████████| 32/32 [00:00<00:00, 243.84it/s, batch_loss=1.76]\n"
     ]
    },
    {
     "name": "stdout",
     "output_type": "stream",
     "text": [
      "[VALID 029]: loss=2.62760066986084, metrics={'MSE': 2.62760066986084}\n"
     ]
    },
    {
     "name": "stderr",
     "output_type": "stream",
     "text": [
      "[TRAIN 030]: 100%|██████████| 32/32 [00:00<00:00, 376.33it/s, batch_loss=1.77]\n"
     ]
    },
    {
     "name": "stdout",
     "output_type": "stream",
     "text": [
      "[VALID 030]: loss=2.2938010692596436, metrics={'MSE': 2.2938010692596436}\n"
     ]
    },
    {
     "name": "stderr",
     "output_type": "stream",
     "text": [
      "[TRAIN 031]: 100%|██████████| 32/32 [00:00<00:00, 395.29it/s, batch_loss=1.61]\n"
     ]
    },
    {
     "name": "stdout",
     "output_type": "stream",
     "text": [
      "[VALID 031]: loss=2.1675078868865967, metrics={'MSE': 2.1675078868865967}\n"
     ]
    },
    {
     "name": "stderr",
     "output_type": "stream",
     "text": [
      "[TRAIN 032]: 100%|██████████| 32/32 [00:00<00:00, 348.87it/s, batch_loss=1.51]\n"
     ]
    },
    {
     "name": "stdout",
     "output_type": "stream",
     "text": [
      "[VALID 032]: loss=2.0952200889587402, metrics={'MSE': 2.0952200889587402}\n"
     ]
    },
    {
     "name": "stderr",
     "output_type": "stream",
     "text": [
      "[TRAIN 033]: 100%|██████████| 32/32 [00:00<00:00, 384.74it/s, batch_loss=1.85]\n"
     ]
    },
    {
     "name": "stdout",
     "output_type": "stream",
     "text": [
      "[VALID 033]: loss=2.0986995697021484, metrics={'MSE': 2.0986995697021484}\n"
     ]
    },
    {
     "name": "stderr",
     "output_type": "stream",
     "text": [
      "[TRAIN 034]: 100%|██████████| 32/32 [00:00<00:00, 391.23it/s, batch_loss=1.59]\n"
     ]
    },
    {
     "name": "stdout",
     "output_type": "stream",
     "text": [
      "[VALID 034]: loss=1.9793405532836914, metrics={'MSE': 1.9793405532836914}\n"
     ]
    },
    {
     "name": "stderr",
     "output_type": "stream",
     "text": [
      "[TRAIN 035]: 100%|██████████| 32/32 [00:00<00:00, 396.95it/s, batch_loss=1.59]\n"
     ]
    },
    {
     "name": "stdout",
     "output_type": "stream",
     "text": [
      "[VALID 035]: loss=1.925623893737793, metrics={'MSE': 1.925623893737793}\n"
     ]
    },
    {
     "name": "stderr",
     "output_type": "stream",
     "text": [
      "[TRAIN 036]: 100%|██████████| 32/32 [00:00<00:00, 398.99it/s, batch_loss=1.58]\n"
     ]
    },
    {
     "name": "stdout",
     "output_type": "stream",
     "text": [
      "[VALID 036]: loss=1.855924129486084, metrics={'MSE': 1.855924129486084}\n"
     ]
    },
    {
     "name": "stderr",
     "output_type": "stream",
     "text": [
      "[TRAIN 037]: 100%|██████████| 32/32 [00:00<00:00, 386.78it/s, batch_loss=1.2]\n"
     ]
    },
    {
     "name": "stdout",
     "output_type": "stream",
     "text": [
      "[VALID 037]: loss=1.7996906042099, metrics={'MSE': 1.7996906042099}\n"
     ]
    },
    {
     "name": "stderr",
     "output_type": "stream",
     "text": [
      "[TRAIN 038]: 100%|██████████| 32/32 [00:00<00:00, 387.29it/s, batch_loss=1.13]\n"
     ]
    },
    {
     "name": "stdout",
     "output_type": "stream",
     "text": [
      "[VALID 038]: loss=1.7946826219558716, metrics={'MSE': 1.7946826219558716}\n"
     ]
    },
    {
     "name": "stderr",
     "output_type": "stream",
     "text": [
      "[TRAIN 039]: 100%|██████████| 32/32 [00:00<00:00, 409.82it/s, batch_loss=1.23]\n"
     ]
    },
    {
     "name": "stdout",
     "output_type": "stream",
     "text": [
      "[VALID 039]: loss=1.7900608777999878, metrics={'MSE': 1.7900608777999878}\n"
     ]
    },
    {
     "name": "stderr",
     "output_type": "stream",
     "text": [
      "[TRAIN 040]: 100%|██████████| 32/32 [00:00<00:00, 405.13it/s, batch_loss=1.17]\n"
     ]
    },
    {
     "name": "stdout",
     "output_type": "stream",
     "text": [
      "[VALID 040]: loss=1.5830610990524292, metrics={'MSE': 1.5830610990524292}\n"
     ]
    },
    {
     "name": "stderr",
     "output_type": "stream",
     "text": [
      "[TRAIN 041]: 100%|██████████| 32/32 [00:00<00:00, 389.02it/s, batch_loss=1.52]\n"
     ]
    },
    {
     "name": "stdout",
     "output_type": "stream",
     "text": [
      "[VALID 041]: loss=1.5965626239776611, metrics={'MSE': 1.5965626239776611}\n"
     ]
    },
    {
     "name": "stderr",
     "output_type": "stream",
     "text": [
      "[TRAIN 042]: 100%|██████████| 32/32 [00:00<00:00, 405.15it/s, batch_loss=1.47]\n"
     ]
    },
    {
     "name": "stdout",
     "output_type": "stream",
     "text": [
      "[VALID 042]: loss=1.534013271331787, metrics={'MSE': 1.534013271331787}\n"
     ]
    },
    {
     "name": "stderr",
     "output_type": "stream",
     "text": [
      "[TRAIN 043]: 100%|██████████| 32/32 [00:00<00:00, 261.33it/s, batch_loss=1.19] \n"
     ]
    },
    {
     "name": "stdout",
     "output_type": "stream",
     "text": [
      "[VALID 043]: loss=1.5088119506835938, metrics={'MSE': 1.5088119506835938}\n"
     ]
    },
    {
     "name": "stderr",
     "output_type": "stream",
     "text": [
      "[TRAIN 044]: 100%|██████████| 32/32 [00:00<00:00, 399.76it/s, batch_loss=1.11]\n"
     ]
    },
    {
     "name": "stdout",
     "output_type": "stream",
     "text": [
      "[VALID 044]: loss=1.517135500907898, metrics={'MSE': 1.517135500907898}\n"
     ]
    },
    {
     "name": "stderr",
     "output_type": "stream",
     "text": [
      "[TRAIN 045]: 100%|██████████| 32/32 [00:00<00:00, 389.90it/s, batch_loss=1.05]\n"
     ]
    },
    {
     "name": "stdout",
     "output_type": "stream",
     "text": [
      "[VALID 045]: loss=1.406875729560852, metrics={'MSE': 1.406875729560852}\n"
     ]
    },
    {
     "name": "stderr",
     "output_type": "stream",
     "text": [
      "[TRAIN 046]: 100%|██████████| 32/32 [00:00<00:00, 384.54it/s, batch_loss=1.05]\n"
     ]
    },
    {
     "name": "stdout",
     "output_type": "stream",
     "text": [
      "[VALID 046]: loss=1.4344342947006226, metrics={'MSE': 1.4344342947006226}\n"
     ]
    },
    {
     "name": "stderr",
     "output_type": "stream",
     "text": [
      "[TRAIN 047]: 100%|██████████| 32/32 [00:00<00:00, 433.81it/s, batch_loss=0.901]\n"
     ]
    },
    {
     "name": "stdout",
     "output_type": "stream",
     "text": [
      "[VALID 047]: loss=1.4445781707763672, metrics={'MSE': 1.4445781707763672}\n"
     ]
    },
    {
     "name": "stderr",
     "output_type": "stream",
     "text": [
      "[TRAIN 048]: 100%|██████████| 32/32 [00:00<00:00, 410.56it/s, batch_loss=0.959]\n"
     ]
    },
    {
     "name": "stdout",
     "output_type": "stream",
     "text": [
      "[VALID 048]: loss=1.355870008468628, metrics={'MSE': 1.355870008468628}\n"
     ]
    },
    {
     "name": "stderr",
     "output_type": "stream",
     "text": [
      "[TRAIN 049]: 100%|██████████| 32/32 [00:00<00:00, 384.62it/s, batch_loss=1.05]\n"
     ]
    },
    {
     "name": "stdout",
     "output_type": "stream",
     "text": [
      "[VALID 049]: loss=1.4318537712097168, metrics={'MSE': 1.4318537712097168}\n"
     ]
    },
    {
     "name": "stderr",
     "output_type": "stream",
     "text": [
      "[TRAIN 050]: 100%|██████████| 32/32 [00:00<00:00, 380.16it/s, batch_loss=0.912]\n"
     ]
    },
    {
     "name": "stdout",
     "output_type": "stream",
     "text": [
      "[VALID 050]: loss=1.2587898969650269, metrics={'MSE': 1.2587898969650269}\n"
     ]
    },
    {
     "name": "stderr",
     "output_type": "stream",
     "text": [
      "[TRAIN 051]: 100%|██████████| 32/32 [00:00<00:00, 327.52it/s, batch_loss=1.06]\n"
     ]
    },
    {
     "name": "stdout",
     "output_type": "stream",
     "text": [
      "[VALID 051]: loss=1.1934916973114014, metrics={'MSE': 1.1934916973114014}\n"
     ]
    },
    {
     "name": "stderr",
     "output_type": "stream",
     "text": [
      "[TRAIN 052]: 100%|██████████| 32/32 [00:00<00:00, 385.42it/s, batch_loss=1.05]\n"
     ]
    },
    {
     "name": "stdout",
     "output_type": "stream",
     "text": [
      "[VALID 052]: loss=1.1810451745986938, metrics={'MSE': 1.1810451745986938}\n"
     ]
    },
    {
     "name": "stderr",
     "output_type": "stream",
     "text": [
      "[TRAIN 053]: 100%|██████████| 32/32 [00:00<00:00, 405.17it/s, batch_loss=0.876]\n"
     ]
    },
    {
     "name": "stdout",
     "output_type": "stream",
     "text": [
      "[VALID 053]: loss=1.2783104181289673, metrics={'MSE': 1.2783104181289673}\n"
     ]
    },
    {
     "name": "stderr",
     "output_type": "stream",
     "text": [
      "[TRAIN 054]: 100%|██████████| 32/32 [00:00<00:00, 401.00it/s, batch_loss=0.921]\n"
     ]
    },
    {
     "name": "stdout",
     "output_type": "stream",
     "text": [
      "[VALID 054]: loss=1.2529706954956055, metrics={'MSE': 1.2529706954956055}\n"
     ]
    },
    {
     "name": "stderr",
     "output_type": "stream",
     "text": [
      "[TRAIN 055]: 100%|██████████| 32/32 [00:00<00:00, 388.97it/s, batch_loss=0.834]\n"
     ]
    },
    {
     "name": "stdout",
     "output_type": "stream",
     "text": [
      "[VALID 055]: loss=1.279555320739746, metrics={'MSE': 1.279555320739746}\n"
     ]
    },
    {
     "name": "stderr",
     "output_type": "stream",
     "text": [
      "[TRAIN 056]: 100%|██████████| 32/32 [00:00<00:00, 412.06it/s, batch_loss=0.955]\n"
     ]
    },
    {
     "name": "stdout",
     "output_type": "stream",
     "text": [
      "[VALID 056]: loss=1.1078919172286987, metrics={'MSE': 1.1078919172286987}\n"
     ]
    },
    {
     "name": "stderr",
     "output_type": "stream",
     "text": [
      "[TRAIN 057]: 100%|██████████| 32/32 [00:00<00:00, 261.72it/s, batch_loss=0.72] \n"
     ]
    },
    {
     "name": "stdout",
     "output_type": "stream",
     "text": [
      "[VALID 057]: loss=1.4214285612106323, metrics={'MSE': 1.4214285612106323}\n"
     ]
    },
    {
     "name": "stderr",
     "output_type": "stream",
     "text": [
      "[TRAIN 058]: 100%|██████████| 32/32 [00:00<00:00, 397.37it/s, batch_loss=0.948]\n"
     ]
    },
    {
     "name": "stdout",
     "output_type": "stream",
     "text": [
      "[VALID 058]: loss=1.0616214275360107, metrics={'MSE': 1.0616214275360107}\n"
     ]
    },
    {
     "name": "stderr",
     "output_type": "stream",
     "text": [
      "[TRAIN 059]: 100%|██████████| 32/32 [00:00<00:00, 359.03it/s, batch_loss=0.914]\n"
     ]
    },
    {
     "name": "stdout",
     "output_type": "stream",
     "text": [
      "[VALID 059]: loss=1.3247101306915283, metrics={'MSE': 1.3247101306915283}\n"
     ]
    },
    {
     "name": "stderr",
     "output_type": "stream",
     "text": [
      "[TRAIN 060]: 100%|██████████| 32/32 [00:00<00:00, 400.47it/s, batch_loss=0.841]\n"
     ]
    },
    {
     "name": "stdout",
     "output_type": "stream",
     "text": [
      "[VALID 060]: loss=1.188502311706543, metrics={'MSE': 1.188502311706543}\n"
     ]
    },
    {
     "name": "stderr",
     "output_type": "stream",
     "text": [
      "[TRAIN 061]: 100%|██████████| 32/32 [00:00<00:00, 382.79it/s, batch_loss=1.11]\n"
     ]
    },
    {
     "name": "stdout",
     "output_type": "stream",
     "text": [
      "[VALID 061]: loss=1.0770639181137085, metrics={'MSE': 1.0770639181137085}\n"
     ]
    },
    {
     "name": "stderr",
     "output_type": "stream",
     "text": [
      "[TRAIN 062]: 100%|██████████| 32/32 [00:00<00:00, 403.86it/s, batch_loss=0.837]\n"
     ]
    },
    {
     "name": "stdout",
     "output_type": "stream",
     "text": [
      "[VALID 062]: loss=1.2346001863479614, metrics={'MSE': 1.2346001863479614}\n"
     ]
    },
    {
     "name": "stderr",
     "output_type": "stream",
     "text": [
      "[TRAIN 063]: 100%|██████████| 32/32 [00:00<00:00, 395.35it/s, batch_loss=0.996]\n"
     ]
    },
    {
     "name": "stdout",
     "output_type": "stream",
     "text": [
      "[VALID 063]: loss=1.103044867515564, metrics={'MSE': 1.103044867515564}\n"
     ]
    },
    {
     "name": "stderr",
     "output_type": "stream",
     "text": [
      "[TRAIN 064]: 100%|██████████| 32/32 [00:00<00:00, 415.81it/s, batch_loss=0.792]\n"
     ]
    },
    {
     "name": "stdout",
     "output_type": "stream",
     "text": [
      "[VALID 064]: loss=1.1240535974502563, metrics={'MSE': 1.1240535974502563}\n"
     ]
    },
    {
     "name": "stderr",
     "output_type": "stream",
     "text": [
      "[TRAIN 065]: 100%|██████████| 32/32 [00:00<00:00, 400.80it/s, batch_loss=0.855]\n"
     ]
    },
    {
     "name": "stdout",
     "output_type": "stream",
     "text": [
      "[VALID 065]: loss=1.1103551387786865, metrics={'MSE': 1.1103551387786865}\n"
     ]
    },
    {
     "name": "stderr",
     "output_type": "stream",
     "text": [
      "[TRAIN 066]: 100%|██████████| 32/32 [00:00<00:00, 425.53it/s, batch_loss=0.877]\n"
     ]
    },
    {
     "name": "stdout",
     "output_type": "stream",
     "text": [
      "[VALID 066]: loss=1.1148182153701782, metrics={'MSE': 1.1148182153701782}\n"
     ]
    },
    {
     "name": "stderr",
     "output_type": "stream",
     "text": [
      "[TRAIN 067]: 100%|██████████| 32/32 [00:00<00:00, 374.28it/s, batch_loss=0.803]\n"
     ]
    },
    {
     "name": "stdout",
     "output_type": "stream",
     "text": [
      "[VALID 067]: loss=1.059421181678772, metrics={'MSE': 1.059421181678772}\n"
     ]
    },
    {
     "name": "stderr",
     "output_type": "stream",
     "text": [
      "[TRAIN 068]: 100%|██████████| 32/32 [00:00<00:00, 376.95it/s, batch_loss=0.682]\n"
     ]
    },
    {
     "name": "stdout",
     "output_type": "stream",
     "text": [
      "[VALID 068]: loss=1.0435928106307983, metrics={'MSE': 1.0435928106307983}\n"
     ]
    },
    {
     "name": "stderr",
     "output_type": "stream",
     "text": [
      "[TRAIN 069]: 100%|██████████| 32/32 [00:00<00:00, 379.71it/s, batch_loss=0.914]\n"
     ]
    },
    {
     "name": "stdout",
     "output_type": "stream",
     "text": [
      "[VALID 069]: loss=1.0753806829452515, metrics={'MSE': 1.0753806829452515}\n"
     ]
    },
    {
     "name": "stderr",
     "output_type": "stream",
     "text": [
      "[TRAIN 070]: 100%|██████████| 32/32 [00:00<00:00, 421.60it/s, batch_loss=0.801]\n"
     ]
    },
    {
     "name": "stdout",
     "output_type": "stream",
     "text": [
      "[VALID 070]: loss=1.0139113664627075, metrics={'MSE': 1.0139113664627075}\n"
     ]
    },
    {
     "name": "stderr",
     "output_type": "stream",
     "text": [
      "[TRAIN 071]: 100%|██████████| 32/32 [00:00<00:00, 246.11it/s, batch_loss=0.675]\n"
     ]
    },
    {
     "name": "stdout",
     "output_type": "stream",
     "text": [
      "[VALID 071]: loss=1.056181788444519, metrics={'MSE': 1.056181788444519}\n"
     ]
    },
    {
     "name": "stderr",
     "output_type": "stream",
     "text": [
      "[TRAIN 072]: 100%|██████████| 32/32 [00:00<00:00, 361.98it/s, batch_loss=0.71]\n"
     ]
    },
    {
     "name": "stdout",
     "output_type": "stream",
     "text": [
      "[VALID 072]: loss=1.028419017791748, metrics={'MSE': 1.028419017791748}\n"
     ]
    },
    {
     "name": "stderr",
     "output_type": "stream",
     "text": [
      "[TRAIN 073]: 100%|██████████| 32/32 [00:00<00:00, 400.28it/s, batch_loss=0.873]\n"
     ]
    },
    {
     "name": "stdout",
     "output_type": "stream",
     "text": [
      "[VALID 073]: loss=1.0134093761444092, metrics={'MSE': 1.0134093761444092}\n"
     ]
    },
    {
     "name": "stderr",
     "output_type": "stream",
     "text": [
      "[TRAIN 074]: 100%|██████████| 32/32 [00:00<00:00, 413.09it/s, batch_loss=0.815]\n"
     ]
    },
    {
     "name": "stdout",
     "output_type": "stream",
     "text": [
      "[VALID 074]: loss=1.0252788066864014, metrics={'MSE': 1.0252788066864014}\n"
     ]
    },
    {
     "name": "stderr",
     "output_type": "stream",
     "text": [
      "[TRAIN 075]: 100%|██████████| 32/32 [00:00<00:00, 398.29it/s, batch_loss=0.803]\n"
     ]
    },
    {
     "name": "stdout",
     "output_type": "stream",
     "text": [
      "[VALID 075]: loss=0.9977254867553711, metrics={'MSE': 0.9977254867553711}\n"
     ]
    },
    {
     "name": "stderr",
     "output_type": "stream",
     "text": [
      "[TRAIN 076]: 100%|██████████| 32/32 [00:00<00:00, 390.84it/s, batch_loss=0.855]\n"
     ]
    },
    {
     "name": "stdout",
     "output_type": "stream",
     "text": [
      "[VALID 076]: loss=1.0016945600509644, metrics={'MSE': 1.0016945600509644}\n"
     ]
    },
    {
     "name": "stderr",
     "output_type": "stream",
     "text": [
      "[TRAIN 077]: 100%|██████████| 32/32 [00:00<00:00, 397.56it/s, batch_loss=0.661]\n"
     ]
    },
    {
     "name": "stdout",
     "output_type": "stream",
     "text": [
      "[VALID 077]: loss=1.0289216041564941, metrics={'MSE': 1.0289216041564941}\n"
     ]
    },
    {
     "name": "stderr",
     "output_type": "stream",
     "text": [
      "[TRAIN 078]: 100%|██████████| 32/32 [00:00<00:00, 383.91it/s, batch_loss=0.817]\n"
     ]
    },
    {
     "name": "stdout",
     "output_type": "stream",
     "text": [
      "[VALID 078]: loss=0.9619753956794739, metrics={'MSE': 0.9619753956794739}\n"
     ]
    },
    {
     "name": "stderr",
     "output_type": "stream",
     "text": [
      "[TRAIN 079]: 100%|██████████| 32/32 [00:00<00:00, 378.78it/s, batch_loss=0.879]\n"
     ]
    },
    {
     "name": "stdout",
     "output_type": "stream",
     "text": [
      "[VALID 079]: loss=0.9883135557174683, metrics={'MSE': 0.9883135557174683}\n"
     ]
    },
    {
     "name": "stderr",
     "output_type": "stream",
     "text": [
      "[TRAIN 080]: 100%|██████████| 32/32 [00:00<00:00, 407.87it/s, batch_loss=0.81]\n"
     ]
    },
    {
     "name": "stdout",
     "output_type": "stream",
     "text": [
      "[VALID 080]: loss=1.005996823310852, metrics={'MSE': 1.005996823310852}\n"
     ]
    },
    {
     "name": "stderr",
     "output_type": "stream",
     "text": [
      "[TRAIN 081]: 100%|██████████| 32/32 [00:00<00:00, 424.52it/s, batch_loss=0.876]\n"
     ]
    },
    {
     "name": "stdout",
     "output_type": "stream",
     "text": [
      "[VALID 081]: loss=0.9361221790313721, metrics={'MSE': 0.9361221790313721}\n"
     ]
    },
    {
     "name": "stderr",
     "output_type": "stream",
     "text": [
      "[TRAIN 082]: 100%|██████████| 32/32 [00:00<00:00, 364.02it/s, batch_loss=0.659]\n"
     ]
    },
    {
     "name": "stdout",
     "output_type": "stream",
     "text": [
      "[VALID 082]: loss=1.0334553718566895, metrics={'MSE': 1.0334553718566895}\n"
     ]
    },
    {
     "name": "stderr",
     "output_type": "stream",
     "text": [
      "[TRAIN 083]: 100%|██████████| 32/32 [00:00<00:00, 404.01it/s, batch_loss=0.755]\n"
     ]
    },
    {
     "name": "stdout",
     "output_type": "stream",
     "text": [
      "[VALID 083]: loss=0.9088300466537476, metrics={'MSE': 0.9088300466537476}\n"
     ]
    },
    {
     "name": "stderr",
     "output_type": "stream",
     "text": [
      "[TRAIN 084]: 100%|██████████| 32/32 [00:00<00:00, 392.20it/s, batch_loss=0.84]\n"
     ]
    },
    {
     "name": "stdout",
     "output_type": "stream",
     "text": [
      "[VALID 084]: loss=1.0650906562805176, metrics={'MSE': 1.0650906562805176}\n"
     ]
    },
    {
     "name": "stderr",
     "output_type": "stream",
     "text": [
      "[TRAIN 085]: 100%|██████████| 32/32 [00:00<00:00, 264.77it/s, batch_loss=0.904]\n"
     ]
    },
    {
     "name": "stdout",
     "output_type": "stream",
     "text": [
      "[VALID 085]: loss=0.8595545291900635, metrics={'MSE': 0.8595545291900635}\n"
     ]
    },
    {
     "name": "stderr",
     "output_type": "stream",
     "text": [
      "[TRAIN 086]: 100%|██████████| 32/32 [00:00<00:00, 414.46it/s, batch_loss=0.804]\n"
     ]
    },
    {
     "name": "stdout",
     "output_type": "stream",
     "text": [
      "[VALID 086]: loss=0.8703919053077698, metrics={'MSE': 0.8703919053077698}\n"
     ]
    },
    {
     "name": "stderr",
     "output_type": "stream",
     "text": [
      "[TRAIN 087]: 100%|██████████| 32/32 [00:00<00:00, 424.14it/s, batch_loss=0.869]\n"
     ]
    },
    {
     "name": "stdout",
     "output_type": "stream",
     "text": [
      "[VALID 087]: loss=1.2019964456558228, metrics={'MSE': 1.2019964456558228}\n"
     ]
    },
    {
     "name": "stderr",
     "output_type": "stream",
     "text": [
      "[TRAIN 088]: 100%|██████████| 32/32 [00:00<00:00, 392.41it/s, batch_loss=0.864]\n"
     ]
    },
    {
     "name": "stdout",
     "output_type": "stream",
     "text": [
      "[VALID 088]: loss=0.852433443069458, metrics={'MSE': 0.852433443069458}\n"
     ]
    },
    {
     "name": "stderr",
     "output_type": "stream",
     "text": [
      "[TRAIN 089]: 100%|██████████| 32/32 [00:00<00:00, 420.36it/s, batch_loss=0.875]\n"
     ]
    },
    {
     "name": "stdout",
     "output_type": "stream",
     "text": [
      "[VALID 089]: loss=1.0355217456817627, metrics={'MSE': 1.0355217456817627}\n"
     ]
    },
    {
     "name": "stderr",
     "output_type": "stream",
     "text": [
      "[TRAIN 090]: 100%|██████████| 32/32 [00:00<00:00, 416.54it/s, batch_loss=0.995]\n"
     ]
    },
    {
     "name": "stdout",
     "output_type": "stream",
     "text": [
      "[VALID 090]: loss=0.9103791117668152, metrics={'MSE': 0.9103791117668152}\n"
     ]
    },
    {
     "name": "stderr",
     "output_type": "stream",
     "text": [
      "[TRAIN 091]: 100%|██████████| 32/32 [00:00<00:00, 411.28it/s, batch_loss=0.755]\n"
     ]
    },
    {
     "name": "stdout",
     "output_type": "stream",
     "text": [
      "[VALID 091]: loss=1.2332637310028076, metrics={'MSE': 1.2332637310028076}\n"
     ]
    },
    {
     "name": "stderr",
     "output_type": "stream",
     "text": [
      "[TRAIN 092]: 100%|██████████| 32/32 [00:00<00:00, 411.45it/s, batch_loss=0.714]\n"
     ]
    },
    {
     "name": "stdout",
     "output_type": "stream",
     "text": [
      "[VALID 092]: loss=0.9104853868484497, metrics={'MSE': 0.9104853868484497}\n"
     ]
    },
    {
     "name": "stderr",
     "output_type": "stream",
     "text": [
      "[TRAIN 093]: 100%|██████████| 32/32 [00:00<00:00, 394.56it/s, batch_loss=0.719]\n"
     ]
    },
    {
     "name": "stdout",
     "output_type": "stream",
     "text": [
      "[VALID 093]: loss=1.0035206079483032, metrics={'MSE': 1.0035206079483032}\n"
     ]
    },
    {
     "name": "stderr",
     "output_type": "stream",
     "text": [
      "[TRAIN 094]: 100%|██████████| 32/32 [00:00<00:00, 414.88it/s, batch_loss=0.658]\n"
     ]
    },
    {
     "name": "stdout",
     "output_type": "stream",
     "text": [
      "[VALID 094]: loss=0.9315425157546997, metrics={'MSE': 0.9315425157546997}\n"
     ]
    },
    {
     "name": "stderr",
     "output_type": "stream",
     "text": [
      "[TRAIN 095]: 100%|██████████| 32/32 [00:00<00:00, 399.02it/s, batch_loss=0.632]\n"
     ]
    },
    {
     "name": "stdout",
     "output_type": "stream",
     "text": [
      "[VALID 095]: loss=1.0785517692565918, metrics={'MSE': 1.0785517692565918}\n"
     ]
    },
    {
     "name": "stderr",
     "output_type": "stream",
     "text": [
      "[TRAIN 096]: 100%|██████████| 32/32 [00:00<00:00, 420.12it/s, batch_loss=0.752]\n"
     ]
    },
    {
     "name": "stdout",
     "output_type": "stream",
     "text": [
      "[VALID 096]: loss=0.8970376253128052, metrics={'MSE': 0.8970376253128052}\n"
     ]
    },
    {
     "name": "stderr",
     "output_type": "stream",
     "text": [
      "[TRAIN 097]: 100%|██████████| 32/32 [00:00<00:00, 410.87it/s, batch_loss=0.777]\n"
     ]
    },
    {
     "name": "stdout",
     "output_type": "stream",
     "text": [
      "[VALID 097]: loss=1.2914140224456787, metrics={'MSE': 1.2914140224456787}\n"
     ]
    },
    {
     "name": "stderr",
     "output_type": "stream",
     "text": [
      "[TRAIN 098]: 100%|██████████| 32/32 [00:00<00:00, 259.32it/s, batch_loss=0.904]\n"
     ]
    },
    {
     "name": "stdout",
     "output_type": "stream",
     "text": [
      "[VALID 098]: loss=0.8974832892417908, metrics={'MSE': 0.8974832892417908}\n",
      "🏃 View run delightful-ray-736 at: http://localhost:8080/#/experiments/663538387065204330/runs/703148feb0204591bbb6ad6ebe51171f\n",
      "🧪 View experiment at: http://localhost:8080/#/experiments/663538387065204330\n",
      "CPU times: user 10.4 s, sys: 1 s, total: 11.4 s\n",
      "Wall time: 11.2 s\n"
     ]
    }
   ],
   "source": [
    "%%time\n",
    "\n",
    "mlflow.set_tracking_uri(uri=\"http://localhost:8080\")\n",
    "mlflow.set_experiment(\"REGRESSION\")\n",
    "\n",
    "with mlflow.start_run() as run:\n",
    "    mlflow.log_param(\"my\", \"param\")\n",
    "\n",
    "    trainer = Trainer(\n",
    "        model=model,\n",
    "        optimizer=optax.adam(learning_rate=0.001),\n",
    "        train_loader=train_loader,\n",
    "        loss_fn=mean_squared_error,\n",
    "        valid_evaluator=valid_evaluator,\n",
    "        early_stopping_patience=10,\n",
    "        epoch_num=512,\n",
    "        active_run=run,\n",
    "    )\n",
    "    trainer = trainer.fit()"
   ]
  },
  {
   "cell_type": "markdown",
   "metadata": {},
   "source": [
    "### Inference"
   ]
  },
  {
   "cell_type": "code",
   "execution_count": 6,
   "metadata": {},
   "outputs": [
    {
     "data": {
      "text/plain": [
       "Array([[2.151601  ],\n",
       "       [2.0596173 ],\n",
       "       [0.92314255],\n",
       "       [2.4030411 ],\n",
       "       [2.4513104 ],\n",
       "       [2.3431027 ],\n",
       "       [1.8763744 ],\n",
       "       [1.5203944 ],\n",
       "       [3.1518376 ],\n",
       "       [2.1497128 ]], dtype=float32)"
      ]
     },
     "execution_count": 6,
     "metadata": {},
     "output_type": "execute_result"
    }
   ],
   "source": [
    "valid_loader = MiniBatchLoader(X_df=train_X_df, y_df=train_y_df, batch_size=512, seed=0)\n",
    "valid_loader.setup_epoch()\n",
    "for Xs, y in valid_loader:\n",
    "    break\n",
    "trainer.best_model(*Xs)[:10]"
   ]
  }
 ],
 "metadata": {
  "kernelspec": {
   "display_name": "Python 3",
   "language": "python",
   "name": "python3"
  },
  "language_info": {
   "codemirror_mode": {
    "name": "ipython",
    "version": 3
   },
   "file_extension": ".py",
   "mimetype": "text/x-python",
   "name": "python",
   "nbconvert_exporter": "python",
   "pygments_lexer": "ipython3",
   "version": "3.11.12"
  }
 },
 "nbformat": 4,
 "nbformat_minor": 2
}
